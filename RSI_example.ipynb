{
 "cells": [
  {
   "cell_type": "code",
   "execution_count": 15,
   "metadata": {},
   "outputs": [
    {
     "name": "stdout",
     "output_type": "stream",
     "text": [
      "Requirement already satisfied: pandas_datareader in /home/johnny/anaconda3/lib/python3.7/site-packages (0.8.1)\n",
      "Requirement already satisfied: requests>=2.3.0 in /home/johnny/anaconda3/lib/python3.7/site-packages (from pandas_datareader) (2.22.0)\n",
      "Requirement already satisfied: lxml in /home/johnny/anaconda3/lib/python3.7/site-packages (from pandas_datareader) (4.4.1)\n",
      "Requirement already satisfied: pandas>=0.21 in /home/johnny/anaconda3/lib/python3.7/site-packages (from pandas_datareader) (0.25.1)\n",
      "Requirement already satisfied: certifi>=2017.4.17 in /home/johnny/anaconda3/lib/python3.7/site-packages (from requests>=2.3.0->pandas_datareader) (2019.9.11)\n",
      "Requirement already satisfied: chardet<3.1.0,>=3.0.2 in /home/johnny/anaconda3/lib/python3.7/site-packages (from requests>=2.3.0->pandas_datareader) (3.0.4)\n",
      "Requirement already satisfied: urllib3!=1.25.0,!=1.25.1,<1.26,>=1.21.1 in /home/johnny/anaconda3/lib/python3.7/site-packages (from requests>=2.3.0->pandas_datareader) (1.24.2)\n",
      "Requirement already satisfied: idna<2.9,>=2.5 in /home/johnny/anaconda3/lib/python3.7/site-packages (from requests>=2.3.0->pandas_datareader) (2.8)\n",
      "Requirement already satisfied: numpy>=1.13.3 in /home/johnny/anaconda3/lib/python3.7/site-packages (from pandas>=0.21->pandas_datareader) (1.16.2)\n",
      "Requirement already satisfied: python-dateutil>=2.6.1 in /home/johnny/anaconda3/lib/python3.7/site-packages (from pandas>=0.21->pandas_datareader) (2.8.0)\n",
      "Requirement already satisfied: pytz>=2017.2 in /home/johnny/anaconda3/lib/python3.7/site-packages (from pandas>=0.21->pandas_datareader) (2019.3)\n",
      "Requirement already satisfied: six>=1.5 in /home/johnny/anaconda3/lib/python3.7/site-packages (from python-dateutil>=2.6.1->pandas>=0.21->pandas_datareader) (1.12.0)\n",
      "Requirement already satisfied: matplotlib in /home/johnny/anaconda3/lib/python3.7/site-packages (3.1.1)\n",
      "Requirement already satisfied: cycler>=0.10 in /home/johnny/anaconda3/lib/python3.7/site-packages (from matplotlib) (0.10.0)\n",
      "Requirement already satisfied: kiwisolver>=1.0.1 in /home/johnny/anaconda3/lib/python3.7/site-packages (from matplotlib) (1.1.0)\n",
      "Requirement already satisfied: pyparsing!=2.0.4,!=2.1.2,!=2.1.6,>=2.0.1 in /home/johnny/anaconda3/lib/python3.7/site-packages (from matplotlib) (2.4.2)\n",
      "Requirement already satisfied: python-dateutil>=2.1 in /home/johnny/anaconda3/lib/python3.7/site-packages (from matplotlib) (2.8.0)\n",
      "Requirement already satisfied: numpy>=1.11 in /home/johnny/anaconda3/lib/python3.7/site-packages (from matplotlib) (1.16.2)\n",
      "Requirement already satisfied: six in /home/johnny/anaconda3/lib/python3.7/site-packages (from cycler>=0.10->matplotlib) (1.12.0)\n",
      "Requirement already satisfied: setuptools in /home/johnny/anaconda3/lib/python3.7/site-packages (from kiwisolver>=1.0.1->matplotlib) (41.4.0)\n",
      "Requirement already satisfied: numpy in /home/johnny/anaconda3/lib/python3.7/site-packages (1.16.2)\n",
      "Requirement already satisfied: pandas in /home/johnny/anaconda3/lib/python3.7/site-packages (0.25.1)\n",
      "Requirement already satisfied: pytz>=2017.2 in /home/johnny/anaconda3/lib/python3.7/site-packages (from pandas) (2019.3)\n",
      "Requirement already satisfied: python-dateutil>=2.6.1 in /home/johnny/anaconda3/lib/python3.7/site-packages (from pandas) (2.8.0)\n",
      "Requirement already satisfied: numpy>=1.13.3 in /home/johnny/anaconda3/lib/python3.7/site-packages (from pandas) (1.16.2)\n",
      "Requirement already satisfied: six>=1.5 in /home/johnny/anaconda3/lib/python3.7/site-packages (from python-dateutil>=2.6.1->pandas) (1.12.0)\n"
     ]
    }
   ],
   "source": [
    "!pip install pandas_datareader\n",
    "!pip install matplotlib\n",
    "!pip install numpy\n",
    "!pip install pandas"
   ]
  },
  {
   "cell_type": "code",
   "execution_count": 16,
   "metadata": {},
   "outputs": [],
   "source": [
    "import pandas as pd\n",
    "import pandas_datareader.data as pdr\n",
    "import numpy as np\n",
    "import datetime"
   ]
  },
  {
   "cell_type": "code",
   "execution_count": 17,
   "metadata": {},
   "outputs": [],
   "source": [
    "ticker = \"AAPL\""
   ]
  },
  {
   "cell_type": "code",
   "execution_count": 26,
   "metadata": {},
   "outputs": [],
   "source": [
    "ohlcv = pdr.get_data_yahoo(ticker,datetime.date.today()-datetime.timedelta(364),datetime.date.today())"
   ]
  },
  {
   "cell_type": "code",
   "execution_count": 27,
   "metadata": {},
   "outputs": [
    {
     "data": {
      "text/plain": [
       "(252, 6)"
      ]
     },
     "execution_count": 27,
     "metadata": {},
     "output_type": "execute_result"
    }
   ],
   "source": [
    "ohlcv.shape"
   ]
  },
  {
   "cell_type": "code",
   "execution_count": 28,
   "metadata": {},
   "outputs": [
    {
     "data": {
      "text/plain": [
       "(252, 6)"
      ]
     },
     "execution_count": 28,
     "metadata": {},
     "output_type": "execute_result"
    }
   ],
   "source": [
    "ohlcv.shape"
   ]
  },
  {
   "cell_type": "code",
   "execution_count": 29,
   "metadata": {},
   "outputs": [
    {
     "data": {
      "text/html": [
       "<div>\n",
       "<style scoped>\n",
       "    .dataframe tbody tr th:only-of-type {\n",
       "        vertical-align: middle;\n",
       "    }\n",
       "\n",
       "    .dataframe tbody tr th {\n",
       "        vertical-align: top;\n",
       "    }\n",
       "\n",
       "    .dataframe thead th {\n",
       "        text-align: right;\n",
       "    }\n",
       "</style>\n",
       "<table border=\"1\" class=\"dataframe\">\n",
       "  <thead>\n",
       "    <tr style=\"text-align: right;\">\n",
       "      <th></th>\n",
       "      <th>High</th>\n",
       "      <th>Low</th>\n",
       "      <th>Open</th>\n",
       "      <th>Close</th>\n",
       "      <th>Volume</th>\n",
       "      <th>Adj Close</th>\n",
       "    </tr>\n",
       "    <tr>\n",
       "      <th>Date</th>\n",
       "      <th></th>\n",
       "      <th></th>\n",
       "      <th></th>\n",
       "      <th></th>\n",
       "      <th></th>\n",
       "      <th></th>\n",
       "    </tr>\n",
       "  </thead>\n",
       "  <tbody>\n",
       "    <tr>\n",
       "      <td>2018-12-19</td>\n",
       "      <td>167.449997</td>\n",
       "      <td>159.089996</td>\n",
       "      <td>166.000000</td>\n",
       "      <td>160.889999</td>\n",
       "      <td>49047300.0</td>\n",
       "      <td>158.508408</td>\n",
       "    </tr>\n",
       "    <tr>\n",
       "      <td>2018-12-20</td>\n",
       "      <td>162.110001</td>\n",
       "      <td>155.300003</td>\n",
       "      <td>160.399994</td>\n",
       "      <td>156.830002</td>\n",
       "      <td>64773000.0</td>\n",
       "      <td>154.508499</td>\n",
       "    </tr>\n",
       "    <tr>\n",
       "      <td>2018-12-21</td>\n",
       "      <td>158.160004</td>\n",
       "      <td>149.630005</td>\n",
       "      <td>156.860001</td>\n",
       "      <td>150.729996</td>\n",
       "      <td>95744600.0</td>\n",
       "      <td>148.498795</td>\n",
       "    </tr>\n",
       "    <tr>\n",
       "      <td>2018-12-24</td>\n",
       "      <td>151.550003</td>\n",
       "      <td>146.589996</td>\n",
       "      <td>148.149994</td>\n",
       "      <td>146.830002</td>\n",
       "      <td>37169200.0</td>\n",
       "      <td>144.656540</td>\n",
       "    </tr>\n",
       "  </tbody>\n",
       "</table>\n",
       "</div>"
      ],
      "text/plain": [
       "                  High         Low        Open       Close      Volume  \\\n",
       "Date                                                                     \n",
       "2018-12-19  167.449997  159.089996  166.000000  160.889999  49047300.0   \n",
       "2018-12-20  162.110001  155.300003  160.399994  156.830002  64773000.0   \n",
       "2018-12-21  158.160004  149.630005  156.860001  150.729996  95744600.0   \n",
       "2018-12-24  151.550003  146.589996  148.149994  146.830002  37169200.0   \n",
       "\n",
       "             Adj Close  \n",
       "Date                    \n",
       "2018-12-19  158.508408  \n",
       "2018-12-20  154.508499  \n",
       "2018-12-21  148.498795  \n",
       "2018-12-24  144.656540  "
      ]
     },
     "execution_count": 29,
     "metadata": {},
     "output_type": "execute_result"
    }
   ],
   "source": [
    "ohlcv.head(4)"
   ]
  },
  {
   "cell_type": "code",
   "execution_count": 30,
   "metadata": {},
   "outputs": [
    {
     "data": {
      "text/html": [
       "<div>\n",
       "<style scoped>\n",
       "    .dataframe tbody tr th:only-of-type {\n",
       "        vertical-align: middle;\n",
       "    }\n",
       "\n",
       "    .dataframe tbody tr th {\n",
       "        vertical-align: top;\n",
       "    }\n",
       "\n",
       "    .dataframe thead th {\n",
       "        text-align: right;\n",
       "    }\n",
       "</style>\n",
       "<table border=\"1\" class=\"dataframe\">\n",
       "  <thead>\n",
       "    <tr style=\"text-align: right;\">\n",
       "      <th></th>\n",
       "      <th>High</th>\n",
       "      <th>Low</th>\n",
       "      <th>Open</th>\n",
       "      <th>Close</th>\n",
       "      <th>Volume</th>\n",
       "      <th>Adj Close</th>\n",
       "    </tr>\n",
       "    <tr>\n",
       "      <th>Date</th>\n",
       "      <th></th>\n",
       "      <th></th>\n",
       "      <th></th>\n",
       "      <th></th>\n",
       "      <th></th>\n",
       "      <th></th>\n",
       "    </tr>\n",
       "  </thead>\n",
       "  <tbody>\n",
       "    <tr>\n",
       "      <td>2019-12-13</td>\n",
       "      <td>275.299988</td>\n",
       "      <td>270.929993</td>\n",
       "      <td>271.459991</td>\n",
       "      <td>275.149994</td>\n",
       "      <td>33396900.0</td>\n",
       "      <td>275.149994</td>\n",
       "    </tr>\n",
       "    <tr>\n",
       "      <td>2019-12-16</td>\n",
       "      <td>280.790009</td>\n",
       "      <td>276.980011</td>\n",
       "      <td>277.000000</td>\n",
       "      <td>279.859985</td>\n",
       "      <td>32046500.0</td>\n",
       "      <td>279.859985</td>\n",
       "    </tr>\n",
       "    <tr>\n",
       "      <td>2019-12-17</td>\n",
       "      <td>281.769989</td>\n",
       "      <td>278.799988</td>\n",
       "      <td>279.570007</td>\n",
       "      <td>280.410004</td>\n",
       "      <td>28539600.0</td>\n",
       "      <td>280.410004</td>\n",
       "    </tr>\n",
       "    <tr>\n",
       "      <td>2019-12-18</td>\n",
       "      <td>281.899994</td>\n",
       "      <td>279.119995</td>\n",
       "      <td>279.799988</td>\n",
       "      <td>279.739990</td>\n",
       "      <td>29007100.0</td>\n",
       "      <td>279.739990</td>\n",
       "    </tr>\n",
       "  </tbody>\n",
       "</table>\n",
       "</div>"
      ],
      "text/plain": [
       "                  High         Low        Open       Close      Volume  \\\n",
       "Date                                                                     \n",
       "2019-12-13  275.299988  270.929993  271.459991  275.149994  33396900.0   \n",
       "2019-12-16  280.790009  276.980011  277.000000  279.859985  32046500.0   \n",
       "2019-12-17  281.769989  278.799988  279.570007  280.410004  28539600.0   \n",
       "2019-12-18  281.899994  279.119995  279.799988  279.739990  29007100.0   \n",
       "\n",
       "             Adj Close  \n",
       "Date                    \n",
       "2019-12-13  275.149994  \n",
       "2019-12-16  279.859985  \n",
       "2019-12-17  280.410004  \n",
       "2019-12-18  279.739990  "
      ]
     },
     "execution_count": 30,
     "metadata": {},
     "output_type": "execute_result"
    }
   ],
   "source": [
    "ohlcv.tail(4)"
   ]
  },
  {
   "cell_type": "code",
   "execution_count": 31,
   "metadata": {},
   "outputs": [],
   "source": [
    "def RSI(DF,n):\n",
    "    \"function to calculate RSI\"\n",
    "    df = DF.copy()\n",
    "    df['delta']=df['Adj Close'] - df['Adj Close'].shift(1)\n",
    "    df['gain']=np.where(df['delta']>=0,df['delta'],0)\n",
    "    df['loss']=np.where(df['delta']<0,abs(df['delta']),0)\n",
    "    avg_gain = []\n",
    "    avg_loss = []\n",
    "    gain = df['gain'].tolist()\n",
    "    loss = df['loss'].tolist()\n",
    "    for i in range(len(df)):\n",
    "        if i < n:\n",
    "            avg_gain.append(np.NaN)\n",
    "            avg_loss.append(np.NaN)\n",
    "        elif i == n:\n",
    "            avg_gain.append(df['gain'].rolling(n).mean().tolist()[n])\n",
    "            avg_loss.append(df['loss'].rolling(n).mean().tolist()[n])\n",
    "        elif i > n:\n",
    "            avg_gain.append(((n-1)*avg_gain[i-1] + gain[i])/n)\n",
    "            avg_loss.append(((n-1)*avg_loss[i-1] + loss[i])/n)\n",
    "    df['avg_gain']=np.array(avg_gain)\n",
    "    df['avg_loss']=np.array(avg_loss)\n",
    "    df['RS'] = df['avg_gain']/df['avg_loss']\n",
    "    df['RSI'] = 100 - (100/(1+df['RS']))\n",
    "    return df['RSI']"
   ]
  },
  {
   "cell_type": "code",
   "execution_count": 32,
   "metadata": {},
   "outputs": [],
   "source": [
    "# Calculating RSI without using loop\n",
    "def rsi(df, n):\n",
    "    \"function to calculate RSI\"\n",
    "    delta = df[\"Adj Close\"].diff().dropna()\n",
    "    u = delta * 0\n",
    "    d = u.copy()\n",
    "    u[delta > 0] = delta[delta > 0]\n",
    "    d[delta < 0] = -delta[delta < 0]\n",
    "    u[u.index[n-1]] = np.mean( u[:n] ) #first value is sum of avg gains\n",
    "    u = u.drop(u.index[:(n-1)])\n",
    "    d[d.index[n-1]] = np.mean( d[:n] ) #first value is sum of avg losses\n",
    "    d = d.drop(d.index[:(n-1)])\n",
    "    rs = pd.stats.moments.ewma(u, com=n-1, adjust=False) / \\\n",
    "         pd.stats.moments.ewma(d, com=n-1, adjust=False)\n",
    "    return 100 - 100 / (1 + rs)"
   ]
  },
  {
   "cell_type": "code",
   "execution_count": 33,
   "metadata": {},
   "outputs": [
    {
     "data": {
      "text/plain": [
       "<matplotlib.axes._subplots.AxesSubplot at 0x7fb31fe39a90>"
      ]
     },
     "execution_count": 33,
     "metadata": {},
     "output_type": "execute_result"
    },
    {
     "data": {
      "image/png": "[encoded data removed]",
      "text/plain": [
       "<Figure size 432x288 with 1 Axes>"
      ]
     },
     "metadata": {
      "needs_background": "light"
     },
     "output_type": "display_data"
    }
   ],
   "source": [
    "RSI(ohlcv,20).plot(title=\"RSI\")"
   ]
  },
  {
   "cell_type": "code",
   "execution_count": null,
   "metadata": {},
   "outputs": [],
   "source": []
  },
  {
   "cell_type": "code",
   "execution_count": null,
   "metadata": {},
   "outputs": [],
   "source": []
  },
  {
   "cell_type": "code",
   "execution_count": null,
   "metadata": {},
   "outputs": [],
   "source": []
  }
 ],
 "metadata": {
  "kernelspec": {
   "display_name": "Python 3",
   "language": "python",
   "name": "python3"
  },
  "language_info": {
   "codemirror_mode": {
    "name": "ipython",
    "version": 3
   },
   "file_extension": ".py",
   "mimetype": "text/x-python",
   "name": "python",
   "nbconvert_exporter": "python",
   "pygments_lexer": "ipython3",
   "version": "3.7.4"
  }
 },
 "nbformat": 4,
 "nbformat_minor": 2
}
