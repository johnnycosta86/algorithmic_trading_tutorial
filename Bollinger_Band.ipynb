{
 "cells": [
  {
   "cell_type": "code",
   "execution_count": 12,
   "metadata": {},
   "outputs": [
    {
     "name": "stdout",
     "output_type": "stream",
     "text": [
      "Requirement already satisfied: pandas_datareader in /home/johnny/anaconda3/lib/python3.7/site-packages (0.8.1)\n",
      "Requirement already satisfied: pandas>=0.21 in /home/johnny/anaconda3/lib/python3.7/site-packages (from pandas_datareader) (0.25.1)\n",
      "Requirement already satisfied: requests>=2.3.0 in /home/johnny/anaconda3/lib/python3.7/site-packages (from pandas_datareader) (2.22.0)\n",
      "Requirement already satisfied: lxml in /home/johnny/anaconda3/lib/python3.7/site-packages (from pandas_datareader) (4.4.1)\n",
      "Requirement already satisfied: numpy>=1.13.3 in /home/johnny/anaconda3/lib/python3.7/site-packages (from pandas>=0.21->pandas_datareader) (1.16.2)\n",
      "Requirement already satisfied: python-dateutil>=2.6.1 in /home/johnny/anaconda3/lib/python3.7/site-packages (from pandas>=0.21->pandas_datareader) (2.8.0)\n",
      "Requirement already satisfied: pytz>=2017.2 in /home/johnny/anaconda3/lib/python3.7/site-packages (from pandas>=0.21->pandas_datareader) (2019.3)\n",
      "Requirement already satisfied: urllib3!=1.25.0,!=1.25.1,<1.26,>=1.21.1 in /home/johnny/anaconda3/lib/python3.7/site-packages (from requests>=2.3.0->pandas_datareader) (1.24.2)\n",
      "Requirement already satisfied: idna<2.9,>=2.5 in /home/johnny/anaconda3/lib/python3.7/site-packages (from requests>=2.3.0->pandas_datareader) (2.8)\n",
      "Requirement already satisfied: certifi>=2017.4.17 in /home/johnny/anaconda3/lib/python3.7/site-packages (from requests>=2.3.0->pandas_datareader) (2019.9.11)\n",
      "Requirement already satisfied: chardet<3.1.0,>=3.0.2 in /home/johnny/anaconda3/lib/python3.7/site-packages (from requests>=2.3.0->pandas_datareader) (3.0.4)\n",
      "Requirement already satisfied: six>=1.5 in /home/johnny/anaconda3/lib/python3.7/site-packages (from python-dateutil>=2.6.1->pandas>=0.21->pandas_datareader) (1.12.0)\n",
      "Requirement already satisfied: matplotlib in /home/johnny/anaconda3/lib/python3.7/site-packages (3.1.1)\n",
      "Requirement already satisfied: cycler>=0.10 in /home/johnny/anaconda3/lib/python3.7/site-packages (from matplotlib) (0.10.0)\n",
      "Requirement already satisfied: kiwisolver>=1.0.1 in /home/johnny/anaconda3/lib/python3.7/site-packages (from matplotlib) (1.1.0)\n",
      "Requirement already satisfied: pyparsing!=2.0.4,!=2.1.2,!=2.1.6,>=2.0.1 in /home/johnny/anaconda3/lib/python3.7/site-packages (from matplotlib) (2.4.2)\n",
      "Requirement already satisfied: python-dateutil>=2.1 in /home/johnny/anaconda3/lib/python3.7/site-packages (from matplotlib) (2.8.0)\n",
      "Requirement already satisfied: numpy>=1.11 in /home/johnny/anaconda3/lib/python3.7/site-packages (from matplotlib) (1.16.2)\n",
      "Requirement already satisfied: six in /home/johnny/anaconda3/lib/python3.7/site-packages (from cycler>=0.10->matplotlib) (1.12.0)\n",
      "Requirement already satisfied: setuptools in /home/johnny/anaconda3/lib/python3.7/site-packages (from kiwisolver>=1.0.1->matplotlib) (41.4.0)\n"
     ]
    }
   ],
   "source": [
    "!pip install pandas_datareader\n",
    "!pip install matplotlib"
   ]
  },
  {
   "cell_type": "code",
   "execution_count": 13,
   "metadata": {},
   "outputs": [],
   "source": [
    "import pandas_datareader.data as pdr\n",
    "import datetime"
   ]
  },
  {
   "cell_type": "code",
   "execution_count": 14,
   "metadata": {},
   "outputs": [],
   "source": [
    "ticker = \"MSFT\""
   ]
  },
  {
   "cell_type": "code",
   "execution_count": 15,
   "metadata": {},
   "outputs": [],
   "source": [
    "ohlcv = pdr.get_data_yahoo(ticker,datetime.date.today()-datetime.timedelta(1825),datetime.date.today())"
   ]
  },
  {
   "cell_type": "code",
   "execution_count": 16,
   "metadata": {},
   "outputs": [
    {
     "data": {
      "text/plain": [
       "pandas.core.frame.DataFrame"
      ]
     },
     "execution_count": 16,
     "metadata": {},
     "output_type": "execute_result"
    }
   ],
   "source": [
    "type(ohlcv)"
   ]
  },
  {
   "cell_type": "code",
   "execution_count": 17,
   "metadata": {},
   "outputs": [
    {
     "data": {
      "text/plain": [
       "(1258, 6)"
      ]
     },
     "execution_count": 17,
     "metadata": {},
     "output_type": "execute_result"
    }
   ],
   "source": [
    "ohlcv.shape"
   ]
  },
  {
   "cell_type": "code",
   "execution_count": 18,
   "metadata": {},
   "outputs": [
    {
     "data": {
      "text/html": [
       "<div>\n",
       "<style scoped>\n",
       "    .dataframe tbody tr th:only-of-type {\n",
       "        vertical-align: middle;\n",
       "    }\n",
       "\n",
       "    .dataframe tbody tr th {\n",
       "        vertical-align: top;\n",
       "    }\n",
       "\n",
       "    .dataframe thead th {\n",
       "        text-align: right;\n",
       "    }\n",
       "</style>\n",
       "<table border=\"1\" class=\"dataframe\">\n",
       "  <thead>\n",
       "    <tr style=\"text-align: right;\">\n",
       "      <th></th>\n",
       "      <th>High</th>\n",
       "      <th>Low</th>\n",
       "      <th>Open</th>\n",
       "      <th>Close</th>\n",
       "      <th>Volume</th>\n",
       "      <th>Adj Close</th>\n",
       "    </tr>\n",
       "    <tr>\n",
       "      <th>Date</th>\n",
       "      <th></th>\n",
       "      <th></th>\n",
       "      <th></th>\n",
       "      <th></th>\n",
       "      <th></th>\n",
       "      <th></th>\n",
       "    </tr>\n",
       "  </thead>\n",
       "  <tbody>\n",
       "    <tr>\n",
       "      <td>2014-12-19</td>\n",
       "      <td>48.099998</td>\n",
       "      <td>47.169998</td>\n",
       "      <td>47.630001</td>\n",
       "      <td>47.660000</td>\n",
       "      <td>64551200.0</td>\n",
       "      <td>42.787170</td>\n",
       "    </tr>\n",
       "    <tr>\n",
       "      <td>2014-12-22</td>\n",
       "      <td>48.119999</td>\n",
       "      <td>47.709999</td>\n",
       "      <td>47.779999</td>\n",
       "      <td>47.980000</td>\n",
       "      <td>26566000.0</td>\n",
       "      <td>43.074444</td>\n",
       "    </tr>\n",
       "    <tr>\n",
       "      <td>2014-12-23</td>\n",
       "      <td>48.799999</td>\n",
       "      <td>48.130001</td>\n",
       "      <td>48.369999</td>\n",
       "      <td>48.450001</td>\n",
       "      <td>23648100.0</td>\n",
       "      <td>43.496403</td>\n",
       "    </tr>\n",
       "    <tr>\n",
       "      <td>2014-12-24</td>\n",
       "      <td>48.639999</td>\n",
       "      <td>48.080002</td>\n",
       "      <td>48.639999</td>\n",
       "      <td>48.139999</td>\n",
       "      <td>11437800.0</td>\n",
       "      <td>43.218105</td>\n",
       "    </tr>\n",
       "  </tbody>\n",
       "</table>\n",
       "</div>"
      ],
      "text/plain": [
       "                 High        Low       Open      Close      Volume  Adj Close\n",
       "Date                                                                         \n",
       "2014-12-19  48.099998  47.169998  47.630001  47.660000  64551200.0  42.787170\n",
       "2014-12-22  48.119999  47.709999  47.779999  47.980000  26566000.0  43.074444\n",
       "2014-12-23  48.799999  48.130001  48.369999  48.450001  23648100.0  43.496403\n",
       "2014-12-24  48.639999  48.080002  48.639999  48.139999  11437800.0  43.218105"
      ]
     },
     "execution_count": 18,
     "metadata": {},
     "output_type": "execute_result"
    }
   ],
   "source": [
    "ohlcv.head(4)"
   ]
  },
  {
   "cell_type": "code",
   "execution_count": 19,
   "metadata": {},
   "outputs": [
    {
     "data": {
      "text/html": [
       "<div>\n",
       "<style scoped>\n",
       "    .dataframe tbody tr th:only-of-type {\n",
       "        vertical-align: middle;\n",
       "    }\n",
       "\n",
       "    .dataframe tbody tr th {\n",
       "        vertical-align: top;\n",
       "    }\n",
       "\n",
       "    .dataframe thead th {\n",
       "        text-align: right;\n",
       "    }\n",
       "</style>\n",
       "<table border=\"1\" class=\"dataframe\">\n",
       "  <thead>\n",
       "    <tr style=\"text-align: right;\">\n",
       "      <th></th>\n",
       "      <th>High</th>\n",
       "      <th>Low</th>\n",
       "      <th>Open</th>\n",
       "      <th>Close</th>\n",
       "      <th>Volume</th>\n",
       "      <th>Adj Close</th>\n",
       "    </tr>\n",
       "    <tr>\n",
       "      <th>Date</th>\n",
       "      <th></th>\n",
       "      <th></th>\n",
       "      <th></th>\n",
       "      <th></th>\n",
       "      <th></th>\n",
       "      <th></th>\n",
       "    </tr>\n",
       "  </thead>\n",
       "  <tbody>\n",
       "    <tr>\n",
       "      <td>2019-12-13</td>\n",
       "      <td>154.889999</td>\n",
       "      <td>152.830002</td>\n",
       "      <td>153.000000</td>\n",
       "      <td>154.529999</td>\n",
       "      <td>23845400.0</td>\n",
       "      <td>154.529999</td>\n",
       "    </tr>\n",
       "    <tr>\n",
       "      <td>2019-12-16</td>\n",
       "      <td>155.899994</td>\n",
       "      <td>154.820007</td>\n",
       "      <td>155.110001</td>\n",
       "      <td>155.529999</td>\n",
       "      <td>24144200.0</td>\n",
       "      <td>155.529999</td>\n",
       "    </tr>\n",
       "    <tr>\n",
       "      <td>2019-12-17</td>\n",
       "      <td>155.710007</td>\n",
       "      <td>154.449997</td>\n",
       "      <td>155.449997</td>\n",
       "      <td>154.690002</td>\n",
       "      <td>25425600.0</td>\n",
       "      <td>154.690002</td>\n",
       "    </tr>\n",
       "    <tr>\n",
       "      <td>2019-12-18</td>\n",
       "      <td>155.479996</td>\n",
       "      <td>154.179993</td>\n",
       "      <td>154.300003</td>\n",
       "      <td>154.369995</td>\n",
       "      <td>24129200.0</td>\n",
       "      <td>154.369995</td>\n",
       "    </tr>\n",
       "  </tbody>\n",
       "</table>\n",
       "</div>"
      ],
      "text/plain": [
       "                  High         Low        Open       Close      Volume  \\\n",
       "Date                                                                     \n",
       "2019-12-13  154.889999  152.830002  153.000000  154.529999  23845400.0   \n",
       "2019-12-16  155.899994  154.820007  155.110001  155.529999  24144200.0   \n",
       "2019-12-17  155.710007  154.449997  155.449997  154.690002  25425600.0   \n",
       "2019-12-18  155.479996  154.179993  154.300003  154.369995  24129200.0   \n",
       "\n",
       "             Adj Close  \n",
       "Date                    \n",
       "2019-12-13  154.529999  \n",
       "2019-12-16  155.529999  \n",
       "2019-12-17  154.690002  \n",
       "2019-12-18  154.369995  "
      ]
     },
     "execution_count": 19,
     "metadata": {},
     "output_type": "execute_result"
    }
   ],
   "source": [
    "ohlcv.tail(4)"
   ]
  },
  {
   "cell_type": "code",
   "execution_count": 20,
   "metadata": {},
   "outputs": [],
   "source": [
    "def ATR(DF,n):\n",
    "    \"function to calculate True Range and Average True Range\"\n",
    "    df = DF.copy()\n",
    "    df['H-L']=abs(df['High']-df['Low'])\n",
    "    df['H-PC']=abs(df['High']-df['Adj Close'].shift(1))\n",
    "    df['L-PC']=abs(df['Low']-df['Adj Close'].shift(1))\n",
    "    df['TR']=df[['H-L','H-PC','L-PC']].max(axis=1,skipna=False)\n",
    "    df['ATR'] = df['TR'].rolling(n).mean()\n",
    "    #df['ATR'] = df['TR'].ewm(span=n,adjust=False,min_periods=n).mean()\n",
    "    df2 = df.drop(['H-L','H-PC','L-PC'],axis=1)\n",
    "    return df2"
   ]
  },
  {
   "cell_type": "code",
   "execution_count": 21,
   "metadata": {},
   "outputs": [],
   "source": [
    "def BollBnd(DF,n):\n",
    "    \"function to calculate Bollinger Band\"\n",
    "    df = DF.copy()\n",
    "    df[\"MA\"] = df['Adj Close'].rolling(n).mean()\n",
    "    df[\"BB_up\"] = df[\"MA\"] + 2*df['Adj Close'].rolling(n).std(ddof=0) #ddof=0 is required since we want to take the standard deviation of the population and not sample\n",
    "    df[\"BB_dn\"] = df[\"MA\"] - 2*df['Adj Close'].rolling(n).std(ddof=0) #ddof=0 is required since we want to take the standard deviation of the population and not sample\n",
    "    df[\"BB_width\"] = df[\"BB_up\"] - df[\"BB_dn\"]\n",
    "    df.dropna(inplace=True)\n",
    "    return df"
   ]
  },
  {
   "cell_type": "code",
   "execution_count": 22,
   "metadata": {},
   "outputs": [
    {
     "data": {
      "text/plain": [
       "<matplotlib.axes._subplots.AxesSubplot at 0x7fcee8df8190>"
      ]
     },
     "execution_count": 22,
     "metadata": {},
     "output_type": "execute_result"
    },
    {
     "data": {
      "image/png": "[encoded data removed]",
      "text/plain": [
       "<Figure size 432x288 with 1 Axes>"
      ]
     },
     "metadata": {
      "needs_background": "light"
     },
     "output_type": "display_data"
    }
   ],
   "source": [
    "# Visualizing Bollinger Band of the stocks for last 100 data points\n",
    "BollBnd(ohlcv,20).iloc[-100:,[-4,-3,-2]].plot(title=\"Bollinger Band\")"
   ]
  },
  {
   "cell_type": "code",
   "execution_count": null,
   "metadata": {},
   "outputs": [],
   "source": []
  },
  {
   "cell_type": "code",
   "execution_count": null,
   "metadata": {},
   "outputs": [],
   "source": []
  },
  {
   "cell_type": "code",
   "execution_count": null,
   "metadata": {},
   "outputs": [],
   "source": []
  }
 ],
 "metadata": {
  "kernelspec": {
   "display_name": "Python 3",
   "language": "python",
   "name": "python3"
  },
  "language_info": {
   "codemirror_mode": {
    "name": "ipython",
    "version": 3
   },
   "file_extension": ".py",
   "mimetype": "text/x-python",
   "name": "python",
   "nbconvert_exporter": "python",
   "pygments_lexer": "ipython3",
   "version": "3.7.4"
  }
 },
 "nbformat": 4,
 "nbformat_minor": 2
}
